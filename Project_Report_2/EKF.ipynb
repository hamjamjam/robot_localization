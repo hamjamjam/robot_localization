{
 "cells": [
  {
   "cell_type": "code",
   "execution_count": 175,
   "metadata": {},
   "outputs": [],
   "source": [
    "import numpy as np\n",
    "import matplotlib.pyplot as plt\n",
    "import scipy.linalg as sp\n",
    "from scipy.integrate import odeint\n",
    "from numpy.linalg import inv\n",
    "import pdb\n",
    "import scipy.io"
   ]
  },
  {
   "cell_type": "code",
   "execution_count": 2,
   "metadata": {},
   "outputs": [],
   "source": [
    "data_file = scipy.io.loadmat('../DATA/cooplocalization_finalproj_KFdata.mat')"
   ]
  },
  {
   "cell_type": "code",
   "execution_count": 3,
   "metadata": {},
   "outputs": [
    {
     "data": {
      "text/plain": [
       "{'__header__': b'MATLAB 5.0 MAT-file, Platform: PCWIN64, Created on: Thu Apr  9 16:24:23 2020',\n",
       " '__version__': '1.0',\n",
       " '__globals__': [],\n",
       " 'Qtrue': array([[0.001, 0.   , 0.   , 0.   , 0.   , 0.   ],\n",
       "        [0.   , 0.001, 0.   , 0.   , 0.   , 0.   ],\n",
       "        [0.   , 0.   , 0.01 , 0.   , 0.   , 0.   ],\n",
       "        [0.   , 0.   , 0.   , 0.001, 0.   , 0.   ],\n",
       "        [0.   , 0.   , 0.   , 0.   , 0.001, 0.   ],\n",
       "        [0.   , 0.   , 0.   , 0.   , 0.   , 0.01 ]]),\n",
       " 'Rtrue': array([[2.25e-02, 0.00e+00, 0.00e+00, 0.00e+00, 0.00e+00],\n",
       "        [0.00e+00, 6.40e+01, 0.00e+00, 0.00e+00, 0.00e+00],\n",
       "        [0.00e+00, 0.00e+00, 4.00e-02, 0.00e+00, 0.00e+00],\n",
       "        [0.00e+00, 0.00e+00, 0.00e+00, 3.60e+01, 0.00e+00],\n",
       "        [0.00e+00, 0.00e+00, 0.00e+00, 0.00e+00, 3.60e+01]]),\n",
       " 'measLabels': array([[array(['\\\\gamma_{ag} (rads)'], dtype='<U18'),\n",
       "         array(['\\\\rho_{ga} (m)'], dtype='<U13'),\n",
       "         array(['\\\\gamma_{ga} (rads)'], dtype='<U18'),\n",
       "         array(['\\\\xi_a (m)'], dtype='<U9'),\n",
       "         array(['\\\\eta_a (m)'], dtype='<U10')]], dtype=object),\n",
       " 'tvec': array([[  0. ,   0.1,   0.2, ...,  99.8,  99.9, 100. ]]),\n",
       " 'ydata': array([[            nan,  1.61873603e+00,  1.69053734e+00, ...,\n",
       "          2.63893953e+00,  2.41875931e+00,  2.86615073e+00],\n",
       "        [            nan,  9.19935334e+01,  5.78037235e+01, ...,\n",
       "          2.60248838e+01,  1.18735827e+01,  1.77062709e+01],\n",
       "        [            nan,  1.70034326e+00,  1.43542497e+00, ...,\n",
       "          1.40601077e+00,  1.36757835e+00,  1.78443079e+00],\n",
       "        [            nan, -6.30620404e+01, -5.72058700e+01, ...,\n",
       "         -1.03417710e+01, -1.33733635e+00, -6.86453640e+00],\n",
       "        [            nan,  3.39309004e+00, -1.21828375e+01, ...,\n",
       "          5.08933003e+00,  1.51891172e+01,  1.87321911e-02]])}"
      ]
     },
     "execution_count": 3,
     "metadata": {},
     "output_type": "execute_result"
    }
   ],
   "source": [
    "data_file"
   ]
  },
  {
   "cell_type": "code",
   "execution_count": 211,
   "metadata": {},
   "outputs": [],
   "source": [
    "#Initializations\n",
    "\n",
    "x0 = np.array([10,0,np.pi/2,-60,0,-np.pi/2]).reshape(6,1)\n",
    "u = np.array([2, -np.pi/18, 12, np.pi/25])\n",
    "L = 0.5\n",
    "num_time_steps = 1000\n",
    "delta_t = 0.1\n",
    "time_steps = data_file['tvec']\n",
    "Qtrue = data_file['Qtrue']\n",
    "cholesky_decomposition_Qtrue = np.linalg.cholesky(Qtrue)\n",
    "Rtrue = data_file['Rtrue']\n",
    "cholesky_decomposition_Rtrue = np.linalg.cholesky(Rtrue)"
   ]
  },
  {
   "cell_type": "code",
   "execution_count": 228,
   "metadata": {},
   "outputs": [],
   "source": [
    "#Generate True data with noise\n",
    "\n",
    "def model(x, t, u, noise, L):\n",
    "    e_g = x[0]\n",
    "    n_g = x[1]\n",
    "    theta_g = x[2]\n",
    "    e_a = x[3]\n",
    "    n_a = x[4]\n",
    "    theta_a = x[5]\n",
    "    v_g = u[0]\n",
    "    phi_g = u[1]\n",
    "    v_a = u[2]\n",
    "    w_a = u[3] \n",
    "    dxdt = [0]*6\n",
    "    dxdt[0] = v_g*np.cos(theta_g) + noise[0][0]\n",
    "    dxdt[1] = v_g*np.sin(theta_g) + noise[1][0]\n",
    "    dxdt[2] = (v_g/L)*np.tan(phi_g) + noise[2][0]\n",
    "    dxdt[3] = v_a*np.cos(theta_a) + noise[3][0]\n",
    "    dxdt[4] = v_a*np.sin(theta_a) + noise[4][0]\n",
    "    dxdt[5] = w_a + noise[5][0]\n",
    "    return dxdt\n",
    "\n",
    "def calculate_exact_yt(x,v):\n",
    "    temptop = (x[4]-x[1])\n",
    "    tempbot = (x[3]-x[0])\n",
    "    y1 = np.arctan2(temptop,tempbot) - (x[2])\n",
    "    if y1 < 0:\n",
    "        y1 = y1 + 2*np.pi\n",
    "    y1 = y1 - np.pi\n",
    "    y2 = ( (x[0]-x[3])**2 + (x[1]-x[4])**2 ) ** 0.5\n",
    "    y3 = np.arctan2(-temptop,-tempbot) - (x[5])\n",
    "    if y3 < 0:\n",
    "        y3 = y3 + 2*np.pi\n",
    "    y4 = x[3]\n",
    "    y5 = x[4]\n",
    "    \n",
    "    yt = np.array([\n",
    "                [y1],\n",
    "                [y2],\n",
    "                [y3],\n",
    "                [y4],\n",
    "                [y5]\n",
    "                ])\n",
    "    yt = yt + v\n",
    "    return yt\n",
    "\n",
    "def get_sample_noise(S):\n",
    "    n = len(S)\n",
    "    std_normal_covar_matrix = np.identity(n)\n",
    "    std_normal_mean_matrix = np.zeros(n)\n",
    "    sampled_noise_with_covar_I = np.random.multivariate_normal(std_normal_mean_matrix, std_normal_covar_matrix).reshape(n,1)\n",
    "    sampled_noise_with_covar_Q = np.dot(S,sampled_noise_with_covar_I)\n",
    "    return sampled_noise_with_covar_Q\n",
    "\n",
    "def wrap_in_negative_pi_to_pi(theta):\n",
    "    wrapped_angle = (theta + np.pi) % (2 * np.pi) - np.pi\n",
    "    return wrapped_angle\n",
    "\n",
    "def get_Xtrue(x0,time_steps,cholesky_decomposition_Qtrue,L):\n",
    "    Xtrue = [x0]\n",
    "    n = len(x0)\n",
    "    for i in range(1,len(time_steps.transpose())):\n",
    "        w = get_sample_noise(cholesky_decomposition_Qtrue)\n",
    "        xk = Xtrue[-1]\n",
    "        xk_plus1 = odeint(model, xk.reshape(n,), np.linspace(0, 0.1, 2), args = (u,w,L))\n",
    "        xk_plus1 = xk_plus1[-1]\n",
    "        xk_plus1[2] = wrap_in_negative_pi_to_pi(xk_plus1[2])\n",
    "        xk_plus1[5] = wrap_in_negative_pi_to_pi(xk_plus1[5])\n",
    "        xk_plus1 = xk_plus1.reshape(n,1)\n",
    "        Xtrue.append(xk_plus1)    \n",
    "    return Xtrue\n",
    "\n",
    "def get_Ytrue(Xtrue,cholesky_decomposition_Rtrue):\n",
    "    Ytrue = []\n",
    "    n = len(Xtrue[0])\n",
    "    for i in range(0,len(Xtrue)):\n",
    "        v = get_sample_noise(cholesky_decomposition_Rtrue)\n",
    "        yk = calculate_exact_yt(Xtrue[i].reshape(n,),v)\n",
    "        Ytrue.append(yk)    \n",
    "    return Ytrue\n",
    "\n",
    "Xtrue = get_Xtrue(x0,time_steps,cholesky_decomposition_Qtrue,L)\n",
    "Ytrue = get_Ytrue(Xtrue,cholesky_decomposition_Rtrue)"
   ]
  },
  {
   "cell_type": "code",
   "execution_count": 231,
   "metadata": {},
   "outputs": [],
   "source": [
    "#Jacobians\n",
    "\n",
    "def get_CT_Jacobians(x,u,time_update_flag,measurement_update_flag):\n",
    "    \n",
    "    A = 0; B = 0; Ga = 0; C = 0; D = 0\n",
    "    \n",
    "    if(time_update_flag):    \n",
    "        A = np.array([\n",
    "                [0, 0, -u[0]*np.sin(x[2]), 0, 0, 0],\n",
    "                [0, 0, u[0]*np.cos(x[2]), 0, 0, 0],\n",
    "                [0, 0, 0, 0, 0, 0],\n",
    "                [0, 0, 0, 0, 0, -u[2]*np.sin(x[5])],\n",
    "                [0, 0, 0, 0, 0, u[2]*np.cos(x[5])],\n",
    "                [0, 0, 0, 0, 0, 0]])\n",
    "\n",
    "        Ga = np.eye(6)\n",
    "    \n",
    "    if(measurement_update_flag):\n",
    "    \n",
    "        denominator_1 = 1 + ((x[4]-x[1])/(x[3]-x[0]))**2\n",
    "        numerator_11 = (x[4]-x[1]) / ((x[3] - x[0])**2)\n",
    "        C11 = numerator_11/denominator_1\n",
    "\n",
    "        numerator_12 = -1/(x[3]-x[0])\n",
    "        C12 = numerator_12/denominator_1\n",
    "\n",
    "        C14 = -1*C11\n",
    "        C15 = -1*C12\n",
    "\n",
    "        denominator_2 = ( (x[0]-x[3])**2 + (x[1]-x[4])**2 ) ** 0.5\n",
    "        C21 = (x[0]-x[3])/denominator_2\n",
    "        C22 = (x[1]-x[4])/denominator_2\n",
    "        C24 = -1*C21\n",
    "        C25 = -1*C22\n",
    "\n",
    "        C = np.array([\n",
    "                [C11, C12, -1, C14, C15, 0],\n",
    "                [C21, C22, 0, C24, C25, 0],\n",
    "                [C11, C12, 0, C14, C15, -1],\n",
    "                [0, 0, 0, 1, 0, 0],\n",
    "                [0, 0, 0, 0, 1, 0]\n",
    "                ])\n",
    "    \n",
    "    return A,B, Ga, C, D\n",
    "\n",
    "def get_DT_Jacobians(x,u,dt,time_update_flag,measurement_update_flag):\n",
    "    \n",
    "    A,B,Gamma,C,D = get_CT_Jacobians(x,u,time_update_flag,measurement_update_flag)\n",
    "    F = 0; G = 0; Omega = 0; H = 0; M = 0\n",
    "    if(time_update_flag):\n",
    "        F = np.eye(6) + dt*A\n",
    "        Omega = delta_t*Gamma\n",
    "    if(measurement_update_flag):\n",
    "        H = C\n",
    "        M = D\n",
    "    \n",
    "    return F,G,Omega,H,M"
   ]
  },
  {
   "cell_type": "code",
   "execution_count": 257,
   "metadata": {},
   "outputs": [],
   "source": [
    "#Extended Kalman Filter\n",
    "\n",
    "def kf_time_update(xk,Pk,uk,Q):\n",
    "    n = len(xk)\n",
    "    noise = np.zeros(n).reshape(n,1)\n",
    "    #Calculate Jacobians    \n",
    "    Fk,Gk,Omegak,Hk,Mk = get_DT_Jacobians(xk.reshape(n,),uk,delta_t,True,False)\n",
    "    #Calculate x(k+1) minus\n",
    "    #Note x(k+1) minus is of shape (n,) (just one dimension)\n",
    "    xk_propogated = odeint(model, xk.reshape(n,), np.linspace(0, 0.1, 2), args = (u,noise,L))\n",
    "    xk_propogated = xk_propogated[-1]\n",
    "    xk_propogated[2] = wrap_in_negative_pi_to_pi(xk_propogated[2])\n",
    "    xk_propogated[5] = wrap_in_negative_pi_to_pi(xk_propogated[5]) \n",
    "    #Calculate P(k+1) minus\n",
    "    Pk_propogated = np.dot(Fk,np.dot(Pk,Fk.transpose())) + np.dot(Omegak,np.dot(Q,Omegak.transpose()))\n",
    "    \n",
    "    return xk_propogated, Pk_propogated\n",
    "\n",
    "def kf_measurement_update(xk_propogated,Pk_propogated,yk_observed,uk,R):\n",
    "    p = len(yk_observed)\n",
    "    #noise\n",
    "    v = np.zeros(p).reshape(p,1)\n",
    "    yk_predicted = calculate_exact_yt(xk_propogated,v)\n",
    "    surprise_factor = yk_observed - yk_predicted\n",
    "    #Calculate Jacobians\n",
    "    Fk,Gk,Omegak,Hk_plus1_minus,Mk = get_DT_Jacobians(xk,uk,delta_t,False,True)\n",
    "    #Calculate Kalman Gain\n",
    "    fc_kalman_gain = np.dot(Pk_propogated,Hk_plus1_minus.transpose())\n",
    "    sc_kalman_gain = np.dot(Hk_plus1_minus,np.dot(Pk_propogated,Hk_plus1_minus.transpose())) + R\n",
    "    kalman_gain = np.dot(fc_kalman_gain,inv(sc_kalman_gain))\n",
    "    \n",
    "    #Calculate x(k+1) plus\n",
    "    n = len(xk_propogated)\n",
    "    xk_plus1 = xk_propogated.reshape(n,1) + np.dot(kalman_gain,surprise_factor)\n",
    "    #Calculate P(k+1) plus\n",
    "    (n,m) = Pk_propogated.shape\n",
    "    I = np.identity(n)\n",
    "    fc_Pk_plus1 = I - np.dot(kalman_gain,Hk_plus1_minus)\n",
    "    Pk_plus1 = np.dot(fc_Pk_plus1, Pk_propogated)\n",
    "    \n",
    "    return xk_plus1,Pk_plus1\n",
    "\n",
    "def get_estimated_states(x0,P0,u,observed_measurements_list,Q,R):\n",
    "    xk = x0\n",
    "    Pk = P0\n",
    "    estimated_state_list = [xk]\n",
    "    estimated_covariance_matrix_list = [Pk]\n",
    "    for observed_measurement in observed_measurements_list[1:]:\n",
    "        xk_propogated,Pk_propogated = kf_time_update(xk,P0,u,Q)\n",
    "        xk_plus1,Pk_plus1 = kf_measurement_update(xk_propogated,Pk_propogated,observed_measurement,u,R)\n",
    "        estimated_state_list.append(xk_plus1)\n",
    "        estimated_covariance_matrix_list.append(Pk_plus1)\n",
    "        xk = xk_plus1\n",
    "        Pk = Pk_plus1\n",
    "\n",
    "    return estimated_state_list,estimated_covariance_matrix_list\n",
    "\n",
    "estimated_state_list,estimated_covariance_matrix_list = get_estimated_states(x0, Qtrue, u, Ytrue, Qtrue, Rtrue)"
   ]
  },
  {
   "cell_type": "code",
   "execution_count": 235,
   "metadata": {},
   "outputs": [],
   "source": [
    "xk_propogated,Pk_propogated = kf_time_update(x0,Qtrue,u,Qtrue)\n",
    "xk_plus1,Pk_plus1 = kf_measurement_update(xk_propogated,Pk_propogated,Ytrue[0],u,Rtrue) "
   ]
  },
  {
   "cell_type": "code",
   "execution_count": 258,
   "metadata": {},
   "outputs": [],
   "source": [
    "a,b = get_estimated_states(x0, Qtrue, u, Ytrue, Qtrue, Rtrue)"
   ]
  },
  {
   "cell_type": "code",
   "execution_count": 265,
   "metadata": {},
   "outputs": [
    {
     "data": {
      "text/plain": [
       "array([[ 10.25051173],\n",
       "       [  3.20845936],\n",
       "       [  0.93370265],\n",
       "       [  8.05251825],\n",
       "       [-88.11766174],\n",
       "       [ -0.22089587]])"
      ]
     },
     "execution_count": 265,
     "metadata": {},
     "output_type": "execute_result"
    }
   ],
   "source": [
    "a[100]"
   ]
  },
  {
   "cell_type": "code",
   "execution_count": 266,
   "metadata": {},
   "outputs": [
    {
     "data": {
      "text/plain": [
       "array([[ 10.73004206],\n",
       "       [  1.86926754],\n",
       "       [  0.85085895],\n",
       "       [  5.75153385],\n",
       "       [-90.3709343 ],\n",
       "       [ -0.27025747]])"
      ]
     },
     "execution_count": 266,
     "metadata": {},
     "output_type": "execute_result"
    }
   ],
   "source": [
    "Xtrue[100]"
   ]
  },
  {
   "cell_type": "code",
   "execution_count": 248,
   "metadata": {},
   "outputs": [
    {
     "data": {
      "text/plain": [
       "array([  2.66936946,  69.98781587,   1.60416722, -58.95311551,\n",
       "       -20.61898604])"
      ]
     },
     "execution_count": 248,
     "metadata": {},
     "output_type": "execute_result"
    }
   ],
   "source": [
    "data_file['ydata'].transpose()[10]"
   ]
  },
  {
   "cell_type": "code",
   "execution_count": 249,
   "metadata": {},
   "outputs": [],
   "source": [
    "c = [32,3245,21,1423,2]"
   ]
  },
  {
   "cell_type": "code",
   "execution_count": 250,
   "metadata": {},
   "outputs": [
    {
     "data": {
      "text/plain": [
       "[32, 3245, 21, 1423, 2]"
      ]
     },
     "execution_count": 250,
     "metadata": {},
     "output_type": "execute_result"
    }
   ],
   "source": [
    "c"
   ]
  },
  {
   "cell_type": "code",
   "execution_count": 251,
   "metadata": {},
   "outputs": [
    {
     "data": {
      "text/plain": [
       "[3245, 21, 1423, 2]"
      ]
     },
     "execution_count": 251,
     "metadata": {},
     "output_type": "execute_result"
    }
   ],
   "source": [
    "c[1:]"
   ]
  },
  {
   "cell_type": "code",
   "execution_count": 256,
   "metadata": {},
   "outputs": [
    {
     "name": "stdout",
     "output_type": "stream",
     "text": [
      "[[1]\n",
      " [2]]\n",
      "[21 42]\n",
      "[[1]\n",
      " [2]]\n"
     ]
    }
   ],
   "source": [
    "def dd( a):\n",
    "    a = a*42 - a*21\n",
    "    print(a)\n",
    "    \n",
    "a = np.array([[1],[2]])\n",
    "print(a)\n",
    "dd(a.reshape(2,))\n",
    "print(a)"
   ]
  },
  {
   "cell_type": "code",
   "execution_count": 269,
   "metadata": {},
   "outputs": [
    {
     "data": {
      "text/plain": [
       "(5, 1)"
      ]
     },
     "execution_count": 269,
     "metadata": {},
     "output_type": "execute_result"
    }
   ],
   "source": [
    "Ytrue[10].shape"
   ]
  },
  {
   "cell_type": "code",
   "execution_count": null,
   "metadata": {},
   "outputs": [],
   "source": []
  }
 ],
 "metadata": {
  "@webio": {
   "lastCommId": null,
   "lastKernelId": null
  },
  "kernelspec": {
   "display_name": "Python 3",
   "language": "python",
   "name": "python3"
  },
  "language_info": {
   "codemirror_mode": {
    "name": "ipython",
    "version": 3
   },
   "file_extension": ".py",
   "mimetype": "text/x-python",
   "name": "python",
   "nbconvert_exporter": "python",
   "pygments_lexer": "ipython3",
   "version": "3.7.3"
  }
 },
 "nbformat": 4,
 "nbformat_minor": 2
}
