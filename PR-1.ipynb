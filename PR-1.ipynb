{
 "cells": [
  {
   "cell_type": "raw",
   "metadata": {},
   "source": [
    "\"\"\"\n",
    "Created on Sunday, April 12, 2020\n",
    "\n",
    "@author: Himanshu and Jamie\n",
    "\n",
    "ASEN 5044 Statistical Estimation, Spring 2020 - Project report 1 \n",
    "\"\"\""
   ]
  },
  {
   "cell_type": "code",
   "execution_count": 31,
   "metadata": {},
   "outputs": [],
   "source": [
    "import numpy as np\n",
    "import matplotlib.pyplot as plt\n",
    "import scipy.linalg as sp\n",
    "from scipy.integrate import odeint"
   ]
  },
  {
   "cell_type": "code",
   "execution_count": 39,
   "metadata": {},
   "outputs": [],
   "source": [
    "#Initializations\n",
    "\n",
    "x0 = [10,0,np.pi/2,-60,0,-np.pi/2]\n",
    "u = [2, -np.pi/18, 12, np.pi/25]\n",
    "L = 0.5\n",
    "num_time_steps = 400\n",
    "delta_t = 0.1\n",
    "time = np.linspace(0, num_time_steps*delta_t, num_time_steps)\n"
   ]
  },
  {
   "cell_type": "code",
   "execution_count": 40,
   "metadata": {},
   "outputs": [],
   "source": [
    "#Generate Nominal trajectory with no noise\n",
    "\n",
    "def model(x, t, u, L):\n",
    "    e_g = x[0]\n",
    "    n_g = x[1]\n",
    "    theta_g = x[2]\n",
    "    e_a = x[3]\n",
    "    n_a = x[4]\n",
    "    theta_a = x[5]\n",
    "    v_g = u[0]\n",
    "    phi_g = u[1]\n",
    "    v_a = u[2]\n",
    "    w_a = u[3] \n",
    "    dxdt = [0]*6\n",
    "    dxdt[0] = v_g*np.cos(theta_g)\n",
    "    dxdt[1] = v_g*np.sin(theta_g)\n",
    "    dxdt[2] = (v_g/L)*np.tan(phi_g)\n",
    "    dxdt[3] = v_a*np.cos(theta_a)\n",
    "    dxdt[4] = v_a*np.sin(theta_a)\n",
    "    dxdt[0] = w_a\n",
    "    return dxdt\n",
    "\n",
    "\n",
    "nominal_trajectory = odeint(model, x0, time, args = (u,L))\n",
    "# xt = output[:,0]\n",
    "# vt = output[:,1]"
   ]
  },
  {
   "cell_type": "code",
   "execution_count": 64,
   "metadata": {},
   "outputs": [],
   "source": [
    "def get_CT_Jacobians(x,u):\n",
    "    \n",
    "    A = np.array([\n",
    "            [0, 0, -u[0]*np.sin(x[2]), 0, 0, 0],\n",
    "            [0, 0, u[0]*np.cos(x[2]), 0, 0, 0],\n",
    "            [0, 0, 0, 0, 0, 0],\n",
    "            [0, 0, 0, 0, 0, -u[2]*np.sin(x[5])],\n",
    "            [0, 0, 0, 0, 0, u[2]*np.cos(x[5])],\n",
    "            [0, 0, 0, 0, 0, 0]])\n",
    "\n",
    "    \n",
    "    B = np.array([\n",
    "            [np.cos(x[2]), 0, 0, 0],\n",
    "            [np.sin(x[2]), 0, 0, 0],\n",
    "            [np.tan(u[1])/L, u[0]/(L*(np.cos(u[1])**2)), 0, 0],\n",
    "            [0, 0, np.cos(x[5]), 0],\n",
    "            [0, 0, np.sin(x[5]), 0],\n",
    "            [0, 0, 0, 1]\n",
    "            ])    \n",
    "    \n",
    "    Ga = np.eye(6)\n",
    "    \n",
    "    denominator_1 = 1 + ((x[4]-x[1])/(x[3]-x[0]))**2\n",
    "    numerator_11 = (x[4]-x[1]) / ((x[3] - x[0])**2)\n",
    "    C11 = numerator_11/denominator_1\n",
    "    \n",
    "    numerator_12 = -1/(x[3]-x[0])\n",
    "    C12 = numerator_12/denominator_1\n",
    "    \n",
    "    C14 = -1*C11\n",
    "    C15 = -1*C12\n",
    "    \n",
    "    denominator_2 = ( (x[0]-x[3])**2 + (x[1]-x[4])**2 ) ** 0.5\n",
    "    C21 = (x[0]-x[3])/denominator_2\n",
    "    C22 = (x[1]-x[4])/denominator_2\n",
    "    C24 = -1*C21\n",
    "    C25 = -1*C22\n",
    "    \n",
    "    C = np.array([\n",
    "            [C11, C12, -1, C14, C15, 0],\n",
    "            [C21, C22, 0, C24, C25, 0],\n",
    "            [C11, C12, 0, C14, C15, -1],\n",
    "            [0, 0, 0, 1, 0, 0],\n",
    "            [0, 0, 0, 0, 1, 0]\n",
    "            ])\n",
    "\n",
    "    D = 0\n",
    "    \n",
    "    return A,B, Ga, C, D\n",
    "\n",
    "def get_DT_Jacobians(x,u,dt):\n",
    "    \n",
    "    A,B,Gamma,C,D = get_CT_Jacobians(x,u)\n",
    "    \n",
    "    F = np.eye(6) + dt*A\n",
    "    G = dt*B\n",
    "    Omega = delta_t*Gamma\n",
    "    H = C\n",
    "    M = D\n",
    "    \n",
    "    return F,G,Omega,H,M\n"
   ]
  },
  {
   "cell_type": "code",
   "execution_count": 63,
   "metadata": {},
   "outputs": [
    {
     "data": {
      "text/plain": [
       "array([[ 1.00000000e+00,  0.00000000e+00, -2.00000000e-01,\n",
       "         0.00000000e+00,  0.00000000e+00,  0.00000000e+00],\n",
       "       [ 0.00000000e+00,  1.00000000e+00,  1.22464680e-17,\n",
       "         0.00000000e+00,  0.00000000e+00,  0.00000000e+00],\n",
       "       [ 0.00000000e+00,  0.00000000e+00,  1.00000000e+00,\n",
       "         0.00000000e+00,  0.00000000e+00,  0.00000000e+00],\n",
       "       [ 0.00000000e+00,  0.00000000e+00,  0.00000000e+00,\n",
       "         1.00000000e+00,  0.00000000e+00,  1.20000000e+00],\n",
       "       [ 0.00000000e+00,  0.00000000e+00,  0.00000000e+00,\n",
       "         0.00000000e+00,  1.00000000e+00,  7.34788079e-17],\n",
       "       [ 0.00000000e+00,  0.00000000e+00,  0.00000000e+00,\n",
       "         0.00000000e+00,  0.00000000e+00,  1.00000000e+00]])"
      ]
     },
     "execution_count": 63,
     "metadata": {},
     "output_type": "execute_result"
    }
   ],
   "source": [
    "F,G,Omega,H,M = get_DT_Jacobians(x0,u,delta_t)\n",
    "F"
   ]
  },
  {
   "cell_type": "code",
   "execution_count": null,
   "metadata": {},
   "outputs": [],
   "source": [
    "# mu_0_A = np.array(\n",
    "#     [[0],\n",
    "#      [85*np.cos(np.pi/4)],\n",
    "#      [0],\n",
    "#      [-85*np.sin(np.pi/4)]])\n",
    "\n",
    "# P_0_A = np.array(\n",
    "#     [[10.0,0.0,0.0,0.0],\n",
    "#      [0.0,2.0,0.0,0.0],\n",
    "#      [0.0,0.0,10.0,0.0],\n",
    "#      [0.0,0.0,0.0,2.0]\n",
    "#     ])\n",
    "# P_0_A = 900*P_0_A\n",
    "\n",
    "def kf_time_update(delta_xk,delta_uk,Pk,F,G,Omega,H,R,Q):\n",
    "    delta_xk_propogated = np.dot(F,delta_xk) + np.dot(G,delta_uk)\n",
    "    Pk_propogated = np.dot(F,np.dot(Pk,F.transpose())) + np.dot(Omega,np.dot(Q,Omega.transpose()))    \n",
    "    fc_kalman_gain = np.dot(Pk_propogated,H.transpose())\n",
    "    sc_kalman_gain = np.dot(H,np.dot(Pk_propogated,H.transpose())) + R\n",
    "    kalman_gain = np.dot(fc_kalman_gain,inv(sc_kalman_gain))\n",
    "    return xk_propogated, Pk_propogated, kalman_gain\n",
    "\n",
    "def kf_measurement_update(xk_propogated,yk_observed,Pk_propogated,kalman_gain,H):\n",
    "    surprise_factor = yk_observed - np.dot(H,xk_propogated)\n",
    "    xk_plus1 = xk_propogated + np.dot(kalman_gain,surprise_factor)\n",
    "    (n,m) = Pk_propogated.shape\n",
    "    I = np.identity(n)\n",
    "    fc_Pk_plus1 = I - np.dot(kalman_gain,H)\n",
    "    Pk_plus1 = np.dot(fc_Pk_plus1, Pk_propogated)\n",
    "    return xk_plus1,Pk_plus1"
   ]
  }
 ],
 "metadata": {
  "kernelspec": {
   "display_name": "Python 3",
   "language": "python",
   "name": "python3"
  },
  "language_info": {
   "codemirror_mode": {
    "name": "ipython",
    "version": 3
   },
   "file_extension": ".py",
   "mimetype": "text/x-python",
   "name": "python",
   "nbconvert_exporter": "python",
   "pygments_lexer": "ipython3",
   "version": "3.7.3"
  }
 },
 "nbformat": 4,
 "nbformat_minor": 2
}
